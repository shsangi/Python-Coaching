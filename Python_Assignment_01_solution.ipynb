{
  "nbformat": 4,
  "nbformat_minor": 0,
  "metadata": {
    "colab": {
      "provenance": []
    },
    "kernelspec": {
      "name": "python3",
      "display_name": "Python 3"
    },
    "language_info": {
      "name": "python"
    }
  },
  "cells": [
    {
      "cell_type": "markdown",
      "source": [
        "**Python_Assignment_01**"
      ],
      "metadata": {
        "id": "Z74OugQpCh_u"
      }
    },
    {
      "cell_type": "markdown",
      "source": [
        "1.Write a program to store a string and an integer in two separate variables, then combine them and print the result.\n",
        "\n",
        "2.Create a program that accepts two strings and outputs the concatenation of the two strings in uppercase.\n",
        "\n",
        "3.Write a program that accepts a string and converts it to an integer, then adds 10 to the result and outputs the final result.\n",
        "\n",
        "4.Create a program that accepts a string and checks if the length of the string is greater than 10. If it is, the program should output “String is too long.”, otherwise, it should output “String is just right.”\n",
        "\n",
        "5.Write a program that accepts an integer and checks if it is even or odd. If it is even, the program should output “Even”, otherwise, it should output “Odd”.\n",
        "\n",
        "6.Create a program that accepts two integers and outputs the larger of the two.\n",
        "\n",
        "7.Write a program that accepts a string and checks if it contains the word “python”. If it does, the program should output “Yes”, otherwise, it should output “No”.\n",
        "\n",
        "8.Create a program that accepts an integer and checks if it is positive or negative. If it is positive, the program should output “Positive”, otherwise, it should output “Negative”.\n",
        "\n",
        "9.Write a program that accepts an integer and checks if it is within the range of 1 to 100. If it is, the program should output “In range”, otherwise, it should output “Out of range”.\n",
        "\n",
        "10.Create a program that accepts a string and outputs the first three characters of the string. If the string is less than three characters long, the program should output “String too short”."
      ],
      "metadata": {
        "id": "uDBNQn4IB4VK"
      }
    },
    {
      "cell_type": "code",
      "execution_count": 3,
      "metadata": {
        "colab": {
          "base_uri": "https://localhost:8080/"
        },
        "id": "eB9ta8O7Bx10",
        "outputId": "b8cf93cd-b332-4043-8546-4ade5410fcba"
      },
      "outputs": [
        {
          "output_type": "stream",
          "name": "stdout",
          "text": [
            "Hello5\n"
          ]
        }
      ],
      "source": [
        "#1. Write a program to store a string and an integer in two separate variables, then combine them and print the result in py.\n",
        "\n",
        "string_variable = \"Hello\"\n",
        "integer_variable = 5\n",
        "\n",
        "print(string_variable + str(integer_variable)) # outputs 'Hello5'"
      ]
    },
    {
      "cell_type": "code",
      "source": [
        "#2.Create a program that accepts two strings and outputs the concatenation of the two strings in uppercase python\n",
        "\n",
        "string1 = input(\"Enter the first string: \")\n",
        "string2 = input(\"Enter the second string: \")\n",
        "\n",
        "concatenated_string = string1 + string2\n",
        "\n",
        "print(concatenated_string.upper())"
      ],
      "metadata": {
        "colab": {
          "base_uri": "https://localhost:8080/"
        },
        "id": "KM8fvBLaDTG-",
        "outputId": "8ca916ab-34c2-46f8-a6ea-7ec8fbd867d0"
      },
      "execution_count": 4,
      "outputs": [
        {
          "output_type": "stream",
          "name": "stdout",
          "text": [
            "Enter the first string: dfn\n",
            "Enter the second string: sdf\n",
            "DFNSDF\n"
          ]
        }
      ]
    },
    {
      "cell_type": "code",
      "source": [
        "#3.Write a program that accepts a string and converts it to an integer, then adds 10 to the result and outputs the final result python\n",
        "\n",
        "# Accept a string\n",
        "my_string = input(\"Enter a string: \")\n",
        "\n",
        "# Convert the string to an integer\n",
        "int_value = int(my_string)\n",
        "\n",
        "# Add 10 to the integer\n",
        "int_value += 10\n",
        "\n",
        "# Output the final result\n",
        "print(int_value)"
      ],
      "metadata": {
        "colab": {
          "base_uri": "https://localhost:8080/"
        },
        "id": "LcI57mGLEcjj",
        "outputId": "3009f5e0-d04d-4a1f-efad-76bd90ea8143"
      },
      "execution_count": 5,
      "outputs": [
        {
          "output_type": "stream",
          "name": "stdout",
          "text": [
            "Enter a string: 65\n",
            "75\n"
          ]
        }
      ]
    },
    {
      "cell_type": "code",
      "source": [
        "#4.Create a program that accepts a string and checks if the length of the string is greater than 10. If it is, the program should output “String is too long.”, otherwise, it should output “String is just right.\" python\n",
        "\n",
        "string = input(\"Please enter a string: \")\n",
        "\n",
        "if len(string) > 10:\n",
        "    print(\"String is too long.\")\n",
        "else:\n",
        "    print(\"String is just right.\")"
      ],
      "metadata": {
        "colab": {
          "base_uri": "https://localhost:8080/"
        },
        "id": "fsURq3TEEz8n",
        "outputId": "b7430b17-b78f-4399-b74d-04f30a44a849"
      },
      "execution_count": 6,
      "outputs": [
        {
          "output_type": "stream",
          "name": "stdout",
          "text": [
            "Please enter a string: sheeraz is here\n",
            "String is too long.\n"
          ]
        }
      ]
    },
    {
      "cell_type": "code",
      "source": [
        "#5.Write a program that accepts an integer and checks if it is even or odd. If it is even, the program should output “Even”, otherwise, it should output “Odd” python\n",
        "\n",
        "num = int(input(\"Enter an integer: \"))\n",
        "\n",
        "if (num % 2 == 0):\n",
        "   print(\"Even\")\n",
        "else:\n",
        "   print(\"Odd\")"
      ],
      "metadata": {
        "colab": {
          "base_uri": "https://localhost:8080/"
        },
        "id": "5xHJd3EoFJv8",
        "outputId": "d95e84e4-939c-4ba4-d976-4249fbde9310"
      },
      "execution_count": 7,
      "outputs": [
        {
          "output_type": "stream",
          "name": "stdout",
          "text": [
            "Enter an integer: 50\n",
            "Even\n"
          ]
        }
      ]
    },
    {
      "cell_type": "code",
      "source": [
        "#6.Create a program that accepts two integers and outputs the larger of the two python\n",
        "\n",
        "num1 = int(input(\"Enter first number: \"))\n",
        "num2 = int(input(\"Enter second number: \"))\n",
        "\n",
        "if num1 > num2:\n",
        "  print(num1, \"is greater than\", num2)\n",
        "elif num2 > num1:\n",
        "  print(num2, \"is greater than\", num1)\n",
        "else:\n",
        "  print(\"Both numbers are equal\")"
      ],
      "metadata": {
        "colab": {
          "base_uri": "https://localhost:8080/"
        },
        "id": "BqVBE4LzFcHj",
        "outputId": "2ea7abb4-9315-4094-cffb-627a544771cf"
      },
      "execution_count": 8,
      "outputs": [
        {
          "output_type": "stream",
          "name": "stdout",
          "text": [
            "Enter first number: 9\n",
            "Enter second number: 5\n",
            "9 is greater than 5\n"
          ]
        }
      ]
    },
    {
      "cell_type": "code",
      "source": [
        "#7.Write a program that accepts a string and checks if it contains the word “python”. If it does, the program should output “Yes”, otherwise, it should output “No” python\n",
        "\n",
        "# Program\n",
        "\n",
        "string = input(\"Enter a string: \")\n",
        "\n",
        "if \"python\" in string:\n",
        "  print(\"Yes\")\n",
        "else:\n",
        "  print(\"No\")"
      ],
      "metadata": {
        "colab": {
          "base_uri": "https://localhost:8080/"
        },
        "id": "8Hh7lfMIGBcD",
        "outputId": "506fbee5-4f8d-4597-d6d4-e728f0c0f026"
      },
      "execution_count": 9,
      "outputs": [
        {
          "output_type": "stream",
          "name": "stdout",
          "text": [
            "Enter a string: this is python assignment\n",
            "Yes\n"
          ]
        }
      ]
    },
    {
      "cell_type": "code",
      "source": [
        "#8.Create a program that accepts an integer and checks if it is positive or negative. If it is positive, the program should output “Positive”, otherwise, it should output “Negative” python\n",
        "\n",
        "num = int(input('Enter an integer: '))\n",
        "\n",
        "if num >= 0:\n",
        "    print('Positive')\n",
        "else:\n",
        "    print('Negative')"
      ],
      "metadata": {
        "colab": {
          "base_uri": "https://localhost:8080/"
        },
        "id": "B-garetDGRpl",
        "outputId": "bf9ca586-ad0b-429e-d819-32f882d3a3da"
      },
      "execution_count": 10,
      "outputs": [
        {
          "output_type": "stream",
          "name": "stdout",
          "text": [
            "Enter an integer: -9\n",
            "Negative\n"
          ]
        }
      ]
    },
    {
      "cell_type": "code",
      "source": [
        "#9.Write a program that accepts an integer and checks if it is within the range of 1 to 100. If it is, the program should output “In range”, otherwise, it should output “Out of range” python\n",
        "\n",
        "num = int(input(\"Please enter an integer: \"))\n",
        "\n",
        "if 1 <= num <= 100:\n",
        "  print(\"In range\")\n",
        "else:\n",
        "  print(\"Out of range\")"
      ],
      "metadata": {
        "colab": {
          "base_uri": "https://localhost:8080/"
        },
        "id": "QReWQOg2GivT",
        "outputId": "62a3ca21-b910-4ca0-b059-18eac916514a"
      },
      "execution_count": 11,
      "outputs": [
        {
          "output_type": "stream",
          "name": "stdout",
          "text": [
            "Please enter an integer: 78\n",
            "In range\n"
          ]
        }
      ]
    },
    {
      "cell_type": "code",
      "source": [
        "#10.Create a program that accepts a string and outputs the first three characters of the string. If the string is less than three characters long, the program should output “String too short” python\n",
        "\n",
        "string = input(\"Please enter a string: \")\n",
        "\n",
        "if len(string) >= 3:\n",
        "    print(string[:3])\n",
        "else:\n",
        "    print(\"String too short\")"
      ],
      "metadata": {
        "colab": {
          "base_uri": "https://localhost:8080/"
        },
        "id": "CeG3ZPQ6G6n2",
        "outputId": "8aef6da0-681d-4765-bc52-1f9c57680400"
      },
      "execution_count": 15,
      "outputs": [
        {
          "output_type": "stream",
          "name": "stdout",
          "text": [
            "Please enter a string: Hello!\n",
            "Hel\n"
          ]
        }
      ]
    }
  ]
}